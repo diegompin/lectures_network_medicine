{
 "cells": [
  {
   "cell_type": "code",
   "execution_count": null,
   "metadata": {},
   "outputs": [],
   "source": []
  },
  {
   "cell_type": "markdown",
   "metadata": {},
   "source": [
    "### Standardized "
   ]
  },
  {
   "cell_type": "code",
   "execution_count": 309,
   "metadata": {},
   "outputs": [
    {
     "data": {
      "text/plain": [
       "0   -0.619677\n",
       "1   -1.576917\n",
       "2    0.179969\n",
       "3   -0.030157\n",
       "4    0.997125\n",
       "5    1.049656\n",
       "Name: bottom, dtype: float64"
      ]
     },
     "execution_count": 309,
     "metadata": {},
     "output_type": "execute_result"
    }
   ],
   "source": [
    "mean_bottom = df_zinc_concentration['bottom'].mean()\n",
    "std_bottom = df_zinc_concentration['bottom'].std()\n",
    "\n",
    "z_bottom = (df_zinc_concentration['bottom'] - mean_bottom) / std_bottom\n",
    "z_bottom\n"
   ]
  },
  {
   "cell_type": "code",
   "execution_count": 310,
   "metadata": {},
   "outputs": [
    {
     "data": {
      "text/plain": [
       "0   -0.208084\n",
       "1   -1.456586\n",
       "2   -0.384426\n",
       "3   -0.243352\n",
       "4    1.132116\n",
       "5    1.160331\n",
       "Name: surface, dtype: float64"
      ]
     },
     "execution_count": 310,
     "metadata": {},
     "output_type": "execute_result"
    }
   ],
   "source": [
    "mean_surface = df_zinc_concentration['surface'].mean()\n",
    "std_surface = df_zinc_concentration['surface'].std()\n",
    "\n",
    "z_surface = (df_zinc_concentration['surface'] - mean_surface) / std_surface\n",
    "z_surface\n"
   ]
  },
  {
   "cell_type": "code",
   "execution_count": 313,
   "metadata": {},
   "outputs": [
    {
     "data": {
      "text/plain": [
       "0.942164662903932"
      ]
     },
     "execution_count": 313,
     "metadata": {},
     "output_type": "execute_result"
    }
   ],
   "source": [
    "corr_bottom_surface = (1/ (n-1)) * np.sum(z_surface * z_bottom)\n",
    "corr_bottom_surface"
   ]
  },
  {
   "cell_type": "code",
   "execution_count": 314,
   "metadata": {},
   "outputs": [
    {
     "data": {
      "text/plain": [
       "0.8876742520248798"
      ]
     },
     "execution_count": 314,
     "metadata": {},
     "output_type": "execute_result"
    }
   ],
   "source": [
    "r_2 = np.power(corr_bottom_surface, 2)\n",
    "r_2"
   ]
  },
  {
   "cell_type": "code",
   "execution_count": 283,
   "metadata": {},
   "outputs": [
    {
     "name": "stdout",
     "output_type": "stream",
     "text": [
      "                                 OLS Regression Results                                \n",
      "=======================================================================================\n",
      "Dep. Variable:                 bottom   R-squared (uncentered):                   0.888\n",
      "Model:                            OLS   Adj. R-squared (uncentered):              0.865\n",
      "Method:                 Least Squares   F-statistic:                              39.51\n",
      "Date:                Sun, 12 Jul 2020   Prob (F-statistic):                     0.00150\n",
      "Time:                        05:34:27   Log-Likelihood:                         -1.4076\n",
      "No. Observations:                   6   AIC:                                      4.815\n",
      "Df Residuals:                       5   BIC:                                      4.607\n",
      "Df Model:                           1                                                  \n",
      "Covariance Type:            nonrobust                                                  \n",
      "==============================================================================\n",
      "                 coef    std err          t      P>|t|      [0.025      0.975]\n",
      "------------------------------------------------------------------------------\n",
      "surface        0.9422      0.150      6.286      0.001       0.557       1.327\n",
      "==============================================================================\n",
      "Omnibus:                          nan   Durbin-Watson:                   1.418\n",
      "Prob(Omnibus):                    nan   Jarque-Bera (JB):                0.345\n",
      "Skew:                           0.479   Prob(JB):                        0.842\n",
      "Kurtosis:                       2.320   Cond. No.                         1.00\n",
      "==============================================================================\n",
      "\n",
      "Warnings:\n",
      "[1] Standard Errors assume that the covariance matrix of the errors is correctly specified.\n"
     ]
    },
    {
     "name": "stderr",
     "output_type": "stream",
     "text": [
      "/opt/conda/lib/python3.8/site-packages/statsmodels/stats/stattools.py:70: ValueWarning: omni_normtest is not valid with less than 8 observations; 6 samples were given.\n",
      "  warn(\"omni_normtest is not valid with less than 8 observations; %i \"\n"
     ]
    }
   ],
   "source": [
    "import statsmodels.api as sm\n",
    "model = sm.OLS(endog=z_bottom, exog=z_surface)\n",
    "model = model.fit()\n",
    "print(model.summary())"
   ]
  },
  {
   "cell_type": "code",
   "execution_count": 317,
   "metadata": {},
   "outputs": [
    {
     "data": {
      "text/plain": [
       "0.38309637603784935"
      ]
     },
     "execution_count": 317,
     "metadata": {},
     "output_type": "execute_result"
    }
   ],
   "source": [
    "(np.sqrt(np.sum(np.power(df_zinc_concentration['bottom'] - mean_bottom, 2))))"
   ]
  },
  {
   "cell_type": "code",
   "execution_count": 253,
   "metadata": {},
   "outputs": [
    {
     "data": {
      "text/plain": [
       "0.9421646629039319"
      ]
     },
     "execution_count": 253,
     "metadata": {},
     "output_type": "execute_result"
    }
   ],
   "source": [
    "np.sum((df_zinc_concentration['surface'] - mean_surface) * (df_zinc_concentration['bottom'] - mean_bottom)) / (np.sqrt(np.sum(np.power(df_zinc_concentration['bottom'] - mean_bottom, 2))) * np.sqrt(np.sum(np.power(df_zinc_concentration['surface'] - mean_surface, 2))))"
   ]
  },
  {
   "cell_type": "code",
   "execution_count": 273,
   "metadata": {},
   "outputs": [
    {
     "name": "stdout",
     "output_type": "stream",
     "text": [
      "                                 OLS Regression Results                                \n",
      "=======================================================================================\n",
      "Dep. Variable:                 bottom   R-squared (uncentered):                   0.991\n",
      "Model:                            OLS   Adj. R-squared (uncentered):              0.989\n",
      "Method:                 Least Squares   F-statistic:                              548.4\n",
      "Date:                Sun, 12 Jul 2020   Prob (F-statistic):                    2.64e-06\n",
      "Time:                        05:26:47   Log-Likelihood:                          9.1014\n",
      "No. Observations:                   6   AIC:                                     -16.20\n",
      "Df Residuals:                       5   BIC:                                     -16.41\n",
      "Df Model:                           1                                                  \n",
      "Covariance Type:            nonrobust                                                  \n",
      "==============================================================================\n",
      "                 coef    std err          t      P>|t|      [0.025      0.975]\n",
      "------------------------------------------------------------------------------\n",
      "surface        1.2009      0.051     23.419      0.000       1.069       1.333\n",
      "==============================================================================\n",
      "Omnibus:                          nan   Durbin-Watson:                   1.384\n",
      "Prob(Omnibus):                    nan   Jarque-Bera (JB):                0.485\n",
      "Skew:                           0.625   Prob(JB):                        0.785\n",
      "Kurtosis:                       2.387   Cond. No.                         1.00\n",
      "==============================================================================\n",
      "\n",
      "Warnings:\n",
      "[1] Standard Errors assume that the covariance matrix of the errors is correctly specified.\n"
     ]
    },
    {
     "name": "stderr",
     "output_type": "stream",
     "text": [
      "/opt/conda/lib/python3.8/site-packages/statsmodels/stats/stattools.py:70: ValueWarning: omni_normtest is not valid with less than 8 observations; 6 samples were given.\n",
      "  warn(\"omni_normtest is not valid with less than 8 observations; %i \"\n"
     ]
    }
   ],
   "source": [
    "import statsmodels.formula.api as smf\n",
    "model = smf.ols(formula='bottom  ~ 0 + surface', data=df_zinc_concentration)\n",
    "model = model.fit()\n",
    "print(model.summary())"
   ]
  },
  {
   "cell_type": "code",
   "execution_count": 272,
   "metadata": {},
   "outputs": [
    {
     "name": "stdout",
     "output_type": "stream",
     "text": [
      "                                 OLS Regression Results                                \n",
      "=======================================================================================\n",
      "Dep. Variable:                 bottom   R-squared (uncentered):                   0.888\n",
      "Model:                            OLS   Adj. R-squared (uncentered):              0.865\n",
      "Method:                 Least Squares   F-statistic:                              39.51\n",
      "Date:                Sun, 12 Jul 2020   Prob (F-statistic):                     0.00150\n",
      "Time:                        05:26:39   Log-Likelihood:                         -1.4076\n",
      "No. Observations:                   6   AIC:                                      4.815\n",
      "Df Residuals:                       5   BIC:                                      4.607\n",
      "Df Model:                           1                                                  \n",
      "Covariance Type:            nonrobust                                                  \n",
      "==============================================================================\n",
      "                 coef    std err          t      P>|t|      [0.025      0.975]\n",
      "------------------------------------------------------------------------------\n",
      "surface        0.9422      0.150      6.286      0.001       0.557       1.327\n",
      "==============================================================================\n",
      "Omnibus:                          nan   Durbin-Watson:                   1.418\n",
      "Prob(Omnibus):                    nan   Jarque-Bera (JB):                0.345\n",
      "Skew:                           0.479   Prob(JB):                        0.842\n",
      "Kurtosis:                       2.320   Cond. No.                         1.00\n",
      "==============================================================================\n",
      "\n",
      "Warnings:\n",
      "[1] Standard Errors assume that the covariance matrix of the errors is correctly specified.\n"
     ]
    },
    {
     "name": "stderr",
     "output_type": "stream",
     "text": [
      "/opt/conda/lib/python3.8/site-packages/statsmodels/stats/stattools.py:70: ValueWarning: omni_normtest is not valid with less than 8 observations; 6 samples were given.\n",
      "  warn(\"omni_normtest is not valid with less than 8 observations; %i \"\n"
     ]
    }
   ],
   "source": []
  }
 ],
 "metadata": {
  "kernelspec": {
   "display_name": "Python 3",
   "language": "python",
   "name": "python3"
  },
  "language_info": {
   "codemirror_mode": {
    "name": "ipython",
    "version": 3
   },
   "file_extension": ".py",
   "mimetype": "text/x-python",
   "name": "python",
   "nbconvert_exporter": "python",
   "pygments_lexer": "ipython3",
   "version": "3.8.3"
  }
 },
 "nbformat": 4,
 "nbformat_minor": 4
}
